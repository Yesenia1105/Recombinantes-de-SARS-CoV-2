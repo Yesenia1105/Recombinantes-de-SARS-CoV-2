{
 "cells": [
  {
   "cell_type": "markdown",
   "id": "fc036473",
   "metadata": {},
   "source": [
    "AY.4 \n",
    "Former VOC Delta GK (B.1.617.2+AY.*) first detected in India\n",
    "\n",
    "BA.1 \n",
    "Former VOC Omicron GRA (B.1.1.529+BA.*) first detected in Botswana/Hong Kong/South Africa\n",
    "\n",
    "\n",
    "XD (Pango v.4.3.1 consensus call), Delta (AY.4-like) (Scorpio)\n",
    "First detected in Cyprus (GISED no lo dice)"
   ]
  },
  {
   "cell_type": "code",
   "execution_count": 60,
   "id": "c449f24a",
   "metadata": {},
   "outputs": [],
   "source": [
    "import pandas as pd\n",
    "import numpy as np\n",
    "import seaborn as sns\n",
    "import matplotlib.pyplot as plt\n",
    "import copy"
   ]
  },
  {
   "cell_type": "code",
   "execution_count": 61,
   "id": "ef7d18b0",
   "metadata": {},
   "outputs": [
    {
     "data": {
      "text/html": [
       "<div>\n",
       "<style scoped>\n",
       "    .dataframe tbody tr th:only-of-type {\n",
       "        vertical-align: middle;\n",
       "    }\n",
       "\n",
       "    .dataframe tbody tr th {\n",
       "        vertical-align: top;\n",
       "    }\n",
       "\n",
       "    .dataframe thead th {\n",
       "        text-align: right;\n",
       "    }\n",
       "</style>\n",
       "<table border=\"1\" class=\"dataframe\">\n",
       "  <thead>\n",
       "    <tr style=\"text-align: right;\">\n",
       "      <th></th>\n",
       "      <th>&gt;hCoV-19/India/KL-202-EKM-731/2021|EPI_ISL_16377459|2021</th>\n",
       "    </tr>\n",
       "  </thead>\n",
       "  <tbody>\n",
       "    <tr>\n",
       "      <th>0</th>\n",
       "      <td>----------------TTCCCAGGTAACAAACCAACCAACTTTCGA...</td>\n",
       "    </tr>\n",
       "    <tr>\n",
       "      <th>1</th>\n",
       "      <td>&gt;hCoV-19/India/KL-2771-EKM-1496/2021|EPI_ISL_1...</td>\n",
       "    </tr>\n",
       "    <tr>\n",
       "      <th>2</th>\n",
       "      <td>--TAAAGGTTTATACCTTCCCAGGTAACAAACCAACCAACTTTCGA...</td>\n",
       "    </tr>\n",
       "    <tr>\n",
       "      <th>3</th>\n",
       "      <td>&gt;hCoV-19/India/GA-NCCS-586999988/2021|EPI_ISL_...</td>\n",
       "    </tr>\n",
       "    <tr>\n",
       "      <th>4</th>\n",
       "      <td>----------------TTCCTAGGTAACAAACCAACCAACTTTCGA...</td>\n",
       "    </tr>\n",
       "    <tr>\n",
       "      <th>5</th>\n",
       "      <td>&gt;hCoV-19/India/GA-NCCS-601716226/2021|EPI_ISL_...</td>\n",
       "    </tr>\n",
       "    <tr>\n",
       "      <th>6</th>\n",
       "      <td>------------------------------ACCAACCAACTTTCGA...</td>\n",
       "    </tr>\n",
       "    <tr>\n",
       "      <th>7</th>\n",
       "      <td>&gt;hCoV-19/India/TN-ICMR-INSACOG-SPHL1343/2021|E...</td>\n",
       "    </tr>\n",
       "    <tr>\n",
       "      <th>8</th>\n",
       "      <td>-------------------------AACAAACCAACCAACTTTCGA...</td>\n",
       "    </tr>\n",
       "    <tr>\n",
       "      <th>9</th>\n",
       "      <td>&gt;hCoV-19/India/AS-NEIST-INSACOG-R5-CIDIN0323/2...</td>\n",
       "    </tr>\n",
       "    <tr>\n",
       "      <th>10</th>\n",
       "      <td>----------------------------------------------...</td>\n",
       "    </tr>\n",
       "    <tr>\n",
       "      <th>11</th>\n",
       "      <td>&gt;hCoV-19/India/OR-ILSGS17529/2022|EPI_ISL_1474...</td>\n",
       "    </tr>\n",
       "    <tr>\n",
       "      <th>12</th>\n",
       "      <td>----AAGGTTTATACCTTCCCAGGTAACAAACCAACCAACTTTCGA...</td>\n",
       "    </tr>\n",
       "    <tr>\n",
       "      <th>13</th>\n",
       "      <td>&gt;hCoV-19/India/KL-202-EKM-731/2021|EPI_ISL_163...</td>\n",
       "    </tr>\n",
       "    <tr>\n",
       "      <th>14</th>\n",
       "      <td>----------------TTCCCAGGTAACAAACCAACCAACTTTCGA...</td>\n",
       "    </tr>\n",
       "    <tr>\n",
       "      <th>15</th>\n",
       "      <td>&gt;hCoV-19/Botswana/R209B69_BHP_AAC31884/2021|EP...</td>\n",
       "    </tr>\n",
       "    <tr>\n",
       "      <th>16</th>\n",
       "      <td>----------------------------------------------...</td>\n",
       "    </tr>\n",
       "    <tr>\n",
       "      <th>17</th>\n",
       "      <td>&gt;hCoV-19/Botswana/R209B60_BHP_AAC45786/2021|EP...</td>\n",
       "    </tr>\n",
       "    <tr>\n",
       "      <th>18</th>\n",
       "      <td>----------------------------------------------...</td>\n",
       "    </tr>\n",
       "    <tr>\n",
       "      <th>19</th>\n",
       "      <td>&gt;hCoV-19/Botswana/R209B58_BHP_AAC45787/2021|EP...</td>\n",
       "    </tr>\n",
       "    <tr>\n",
       "      <th>20</th>\n",
       "      <td>----------------------------------------------...</td>\n",
       "    </tr>\n",
       "    <tr>\n",
       "      <th>21</th>\n",
       "      <td>&gt;hCoV-19/Botswana/R209B55_BHP_859936/2021|EPI_...</td>\n",
       "    </tr>\n",
       "    <tr>\n",
       "      <th>22</th>\n",
       "      <td>----------------------------------------------...</td>\n",
       "    </tr>\n",
       "    <tr>\n",
       "      <th>23</th>\n",
       "      <td>&gt;hCoV-19/Botswana/R209B52_BHP_AAC31740/2021|EP...</td>\n",
       "    </tr>\n",
       "    <tr>\n",
       "      <th>24</th>\n",
       "      <td>----------------------------------------------...</td>\n",
       "    </tr>\n",
       "    <tr>\n",
       "      <th>25</th>\n",
       "      <td>&gt;hCoV-19/Botswana/R209B19_BHP_861332/2021|EPI_...</td>\n",
       "    </tr>\n",
       "    <tr>\n",
       "      <th>26</th>\n",
       "      <td>----------------------------------------------...</td>\n",
       "    </tr>\n",
       "    <tr>\n",
       "      <th>27</th>\n",
       "      <td>&gt;hCoV-19/Botswana/R225B36_BHP_0041NOS/2022|EPI...</td>\n",
       "    </tr>\n",
       "    <tr>\n",
       "      <th>28</th>\n",
       "      <td>----------------------------------------------...</td>\n",
       "    </tr>\n",
       "    <tr>\n",
       "      <th>29</th>\n",
       "      <td>&gt;hCoV-19/Botswana/R225B33_BHP_0007SG/2021|EPI_...</td>\n",
       "    </tr>\n",
       "    <tr>\n",
       "      <th>30</th>\n",
       "      <td>----------------------------------------------...</td>\n",
       "    </tr>\n",
       "    <tr>\n",
       "      <th>31</th>\n",
       "      <td>&gt;hCoV-19/France/un-IHUMI-077950/2022|EPI_ISL_1...</td>\n",
       "    </tr>\n",
       "    <tr>\n",
       "      <th>32</th>\n",
       "      <td>----------------------------------------------...</td>\n",
       "    </tr>\n",
       "    <tr>\n",
       "      <th>33</th>\n",
       "      <td>&gt;hCoV-19/France/HDF-IPP34571/2022|EPI_ISL_1301...</td>\n",
       "    </tr>\n",
       "    <tr>\n",
       "      <th>34</th>\n",
       "      <td>----------------------------------------------...</td>\n",
       "    </tr>\n",
       "    <tr>\n",
       "      <th>35</th>\n",
       "      <td>&gt;hCoV-19/France/PAC-IHU-081269_Nova1/2022|EPI_...</td>\n",
       "    </tr>\n",
       "    <tr>\n",
       "      <th>36</th>\n",
       "      <td>----------------------------------------------...</td>\n",
       "    </tr>\n",
       "    <tr>\n",
       "      <th>37</th>\n",
       "      <td>&gt;hCoV-19/France/HDF-HMN-22052230219/2022|EPI_I...</td>\n",
       "    </tr>\n",
       "    <tr>\n",
       "      <th>38</th>\n",
       "      <td>------------------------------------CAACTTTCGA...</td>\n",
       "    </tr>\n",
       "    <tr>\n",
       "      <th>39</th>\n",
       "      <td>&gt;hCoV-19/France/BFC-LBZCentre-JA2204040093/202...</td>\n",
       "    </tr>\n",
       "    <tr>\n",
       "      <th>40</th>\n",
       "      <td>----------------------GGTAACAAACCAACCAACTTTCGA...</td>\n",
       "    </tr>\n",
       "    <tr>\n",
       "      <th>41</th>\n",
       "      <td>&gt;hCoV-19/France/un-IHU-063862/2022|EPI_ISL_177...</td>\n",
       "    </tr>\n",
       "    <tr>\n",
       "      <th>42</th>\n",
       "      <td>----------------------------------------------...</td>\n",
       "    </tr>\n",
       "    <tr>\n",
       "      <th>43</th>\n",
       "      <td>&gt;hCoV-19/France/un-IHU-065147/2022|EPI_ISL_177...</td>\n",
       "    </tr>\n",
       "    <tr>\n",
       "      <th>44</th>\n",
       "      <td>----------------------------------------------...</td>\n",
       "    </tr>\n",
       "    <tr>\n",
       "      <th>45</th>\n",
       "      <td>&gt;hCoV-19/France/un-IHU-074292/2022|EPI_ISL_177...</td>\n",
       "    </tr>\n",
       "    <tr>\n",
       "      <th>46</th>\n",
       "      <td>--------------------------------------ACTTTCGA...</td>\n",
       "    </tr>\n",
       "    <tr>\n",
       "      <th>47</th>\n",
       "      <td>&gt;hCoV-19/Denmark/DCGC-652059/2022|EPI_ISL_1815...</td>\n",
       "    </tr>\n",
       "    <tr>\n",
       "      <th>48</th>\n",
       "      <td>----------------------------------------------...</td>\n",
       "    </tr>\n",
       "    <tr>\n",
       "      <th>49</th>\n",
       "      <td>&gt;hCoV-19/Denmark/DCGC-652427/2022|EPI_ISL_1815...</td>\n",
       "    </tr>\n",
       "    <tr>\n",
       "      <th>50</th>\n",
       "      <td>----------------------------------------------...</td>\n",
       "    </tr>\n",
       "  </tbody>\n",
       "</table>\n",
       "</div>"
      ],
      "text/plain": [
       "   >hCoV-19/India/KL-202-EKM-731/2021|EPI_ISL_16377459|2021\n",
       "0   ----------------TTCCCAGGTAACAAACCAACCAACTTTCGA...      \n",
       "1   >hCoV-19/India/KL-2771-EKM-1496/2021|EPI_ISL_1...      \n",
       "2   --TAAAGGTTTATACCTTCCCAGGTAACAAACCAACCAACTTTCGA...      \n",
       "3   >hCoV-19/India/GA-NCCS-586999988/2021|EPI_ISL_...      \n",
       "4   ----------------TTCCTAGGTAACAAACCAACCAACTTTCGA...      \n",
       "5   >hCoV-19/India/GA-NCCS-601716226/2021|EPI_ISL_...      \n",
       "6   ------------------------------ACCAACCAACTTTCGA...      \n",
       "7   >hCoV-19/India/TN-ICMR-INSACOG-SPHL1343/2021|E...      \n",
       "8   -------------------------AACAAACCAACCAACTTTCGA...      \n",
       "9   >hCoV-19/India/AS-NEIST-INSACOG-R5-CIDIN0323/2...      \n",
       "10  ----------------------------------------------...      \n",
       "11  >hCoV-19/India/OR-ILSGS17529/2022|EPI_ISL_1474...      \n",
       "12  ----AAGGTTTATACCTTCCCAGGTAACAAACCAACCAACTTTCGA...      \n",
       "13  >hCoV-19/India/KL-202-EKM-731/2021|EPI_ISL_163...      \n",
       "14  ----------------TTCCCAGGTAACAAACCAACCAACTTTCGA...      \n",
       "15  >hCoV-19/Botswana/R209B69_BHP_AAC31884/2021|EP...      \n",
       "16  ----------------------------------------------...      \n",
       "17  >hCoV-19/Botswana/R209B60_BHP_AAC45786/2021|EP...      \n",
       "18  ----------------------------------------------...      \n",
       "19  >hCoV-19/Botswana/R209B58_BHP_AAC45787/2021|EP...      \n",
       "20  ----------------------------------------------...      \n",
       "21  >hCoV-19/Botswana/R209B55_BHP_859936/2021|EPI_...      \n",
       "22  ----------------------------------------------...      \n",
       "23  >hCoV-19/Botswana/R209B52_BHP_AAC31740/2021|EP...      \n",
       "24  ----------------------------------------------...      \n",
       "25  >hCoV-19/Botswana/R209B19_BHP_861332/2021|EPI_...      \n",
       "26  ----------------------------------------------...      \n",
       "27  >hCoV-19/Botswana/R225B36_BHP_0041NOS/2022|EPI...      \n",
       "28  ----------------------------------------------...      \n",
       "29  >hCoV-19/Botswana/R225B33_BHP_0007SG/2021|EPI_...      \n",
       "30  ----------------------------------------------...      \n",
       "31  >hCoV-19/France/un-IHUMI-077950/2022|EPI_ISL_1...      \n",
       "32  ----------------------------------------------...      \n",
       "33  >hCoV-19/France/HDF-IPP34571/2022|EPI_ISL_1301...      \n",
       "34  ----------------------------------------------...      \n",
       "35  >hCoV-19/France/PAC-IHU-081269_Nova1/2022|EPI_...      \n",
       "36  ----------------------------------------------...      \n",
       "37  >hCoV-19/France/HDF-HMN-22052230219/2022|EPI_I...      \n",
       "38  ------------------------------------CAACTTTCGA...      \n",
       "39  >hCoV-19/France/BFC-LBZCentre-JA2204040093/202...      \n",
       "40  ----------------------GGTAACAAACCAACCAACTTTCGA...      \n",
       "41  >hCoV-19/France/un-IHU-063862/2022|EPI_ISL_177...      \n",
       "42  ----------------------------------------------...      \n",
       "43  >hCoV-19/France/un-IHU-065147/2022|EPI_ISL_177...      \n",
       "44  ----------------------------------------------...      \n",
       "45  >hCoV-19/France/un-IHU-074292/2022|EPI_ISL_177...      \n",
       "46  --------------------------------------ACTTTCGA...      \n",
       "47  >hCoV-19/Denmark/DCGC-652059/2022|EPI_ISL_1815...      \n",
       "48  ----------------------------------------------...      \n",
       "49  >hCoV-19/Denmark/DCGC-652427/2022|EPI_ISL_1815...      \n",
       "50  ----------------------------------------------...      "
      ]
     },
     "execution_count": 61,
     "metadata": {},
     "output_type": "execute_result"
    }
   ],
   "source": [
    "D1=pd.read_csv(\"alineado_deltacron_origenes_y_Francia_BIEN_DETECTADOS.fasta\")\n",
    "D1"
   ]
  },
  {
   "cell_type": "code",
   "execution_count": 78,
   "id": "141bd64b",
   "metadata": {},
   "outputs": [
    {
     "data": {
      "text/plain": [
       "'TTTATTGCCACTAGTCTCTAGTCAGTGTGTTAATCTTAGAACCAGAACTCAATTACCCCCTGCATACACTAATTCTTTCACACGTGGTGTTTATTACCCTGACAAAGTTTTCAGATCCTCAGTTTTACATTCAACTCAGGACTTGTTCTTACCTTTCTTTTCCANNNNNNNNNNNNNNNNNNNNNNNNNNNNNNNNNNNNNNNNNNNNNNNNNNNNNNNNNNNNNNNNNNNNNNNNNNNNNNNNNNNNNNNNNNNNNNNNNNNNNNNNNNNNNNNNNNNNNNNNNNNNNNNNNNNNNNNNNNNNNNNNNNNNNNNNNNNNNNNNNNNNNNNNNNNNNNNNNNNNNNNNNNNNNNNNNNNNNNNNNNNNNNNNNNNNNNNNNNNNNNNNNNNNNNNNNNNNNNNNNNNNNNNNNNNNNNNNNNNNNNNNNNNNNNGTTGGATGGAAAGTGAGTTCAGAGNNNNNNNNNNNNNNNNNNNNNNNNNNNNNNNNNNNNNNNNNNNNNNNNNNNNNNNNNNNNNNNNAGGAAAACAGGGTAATTTCAAAAATCTTAGGGAATTTGTGTTTAAGAATATTGATGGTTATTTTAAAATATATTCTAAGCACACGCCTATTAATTTAGTGCGTGATCTCCCTCAGGGTTTTTCGGCTTTAGAACCATTGGTAGATTTGCCAATAGGTATTAACATCACTAGGTTTCAAACTTTACTTGCTTTACATAGAAGTTATTTGACTCCTGGTGATTCTTCTTCAGGTTGGACAGCTGGTGCTGCAGCTTATTATGTGGGTTATCTTCAACCTAGGACTTTTCTATTAAAATATAATGAAAATGGAACCATTACAGATGCTGTAGACTGTGCACTTGACCCTCTCTCAGAAACAAAGTGTACGTTGAAATCCTTCACTGTAGAAAAAGGAATCTATCAAACTTCTAACTTTAGAGTCCAACCAACAGAATCTATTGTTAGATTTCCTAATATTACAAACTTGTGCCCTTTTGGTGAAGTTTTTAACGCCACCAGATTTGCATCTGTTTATGCTTGGAACAGGAAGAGAATCAGCAACTGTGTTGCTGANNNNNNNNNNNNNNNNNNNNNNNNNNNNNNNNNNNNNNNNNNNNNNNNNNNNNNNNNNNNNNNNNNNNNNNNNNNNNNNNNNNNNNNNNNNNNNNNNNNNNNNNNNNNNNNNNNNNNNNNNNNNNNNNNNNNNNNNNNNNNNNNAGGGCAAACTGGAAAGATTGCTGATTATAATTATAAATTACCAGATGATTTTACAGGCTGCGTTATAGCTTGGAATTCTAACAATCTTGATTCTAAGGTTGGTGGTAATTATAATTACCGGTATAGATTGTTTAGGAAGTCTAATCTCAAACCTTTTGAGAGAGATATTTCAACTGAAATCTATCAGGCCGGTAGCAAACCTTGTAATGGTGTTGAAGGTTTTAATTGTTACTTTCCTTTACAATCATATGGTTTCCAACCCACTAATGGTGTTGGTTACCAACCATACAGAGTAGTAGTACTTTCTTTTGAACTTCTACATGCACCAGCAACTGTTTGTGGACCTAAAAAGTCTACTAATTTGGTTAAAAACAAATGTGTCAATTTCAACTTCAATGGTTTAACAGGCACAGGTGTTCTTACTGAGTCTAACAAAAAGTTTCTGCCTTTCCAACAATTTGGCAGAGACATTGCTGACACTACTGATGCTGTCCGTGATCCACAGACACTTGAGATTCTTGACATTACACCATGTTCTTTTGGTGGTGTCAGTGTTATAACACCAGGAACAAATACTTCTAACCAGGTTGCTGTTCTTTATCAGGGTGTTAACTGCACAGAAGTCCCTGTTGCTATTCATGCAGATCAACTTACTCCTACTTGGCGTGTTTATTCTACAGGTTCTAATGTTTTTCAAACACGTGCAGGCTGTTTAATAGGGGCTGAACATGTCAACAACTCATATGAGTGTGACATACCCATTGGTGCAGGTATATGCGCTAGTTATCAGACTCAGACTAATTCTCGTCGGCGGGCACGTAGTGTAGCTAGTCAATCCATCATTGCCTACACTATGTCACTTGGTGCAGAAAATTCAGTTGCTTACTCTAATAACTCTATTGCCATACCCACAAATTTTACTATTAGTGTTACCACAGAAATTCTACCAGTGTCTATGACCAAGACATCAGTAGATTGTACAATGTACATTTGTGGTGATTCAACTGAATGCAGCAATCTTTTGTTGCAATATGGCAGTTTTTGTACACAATTAAACCGTGCTTTAACTGGAATAGCTGTTGAACAAGACAAAAACACCCAAGAAGTTTTTGCACAAGTCAAACAAATTTACAAAACACCACCAATTAAAGATTTTGGTGGTTTTAATTTTTCACAAATATTACCAGATCCATCAAAACCAAGCAAGAGGTCATTTATTGAAGATCTACTTTTCAACAAAGTGACACTTGCAGATGCTGGCTTCATCAAACAATATGGTGATTGCCTTGGTGATATTGCTGCTAGAGACCTCATTTGTGCACAAAAGTTTAACGGCCTTACTGTTTTGCCACCTTTGCTCACAGATGAAATGATTNNNNNNNNNNNNNNNNNNNNNNNNNNNNNNNNNNNNNNNNNNNNNNNNNNNNNNNNNNNNNNNNNNNNNNNNNNNNNNNNNNNNNNNNNNNNNNNNNNNNNNNNNNNNNNNNNNNNNNNNNNNNNNNNNNNNNNNNNNNNNNNNNNNNNNNNNNNNNNNNNNNNNNNNNNNNNNNNNNNNNNNNNNNNNNNNNNNNNNNNNNNNNNNNNNNNNNNNNNNGCACTTGGAAAACTTCAAGATGTGGTCAACCAAAATGCACAAGCTTTAAACACGCTTGTTAAACAACTTAGCTCCAATTTTGGTGCAATTTCAAGTGTTTTAAATGATATCCTTTCACGTCTTGACAAAGTTGAGGCTGAAGTGCAAATTGATAGGTTGATCACAGGCAGACTTCAAAGTTTGCAGACATATGTGACTCAACAATTAATTAGAGCTGCAGAAATCAGAGCTTCTGCTAATCTTGCTGCTACTAAAATGTCAGAGTGTGTACTTGGACAATCAAAAAGAGTTGATTTTTGTGGAAAGGGCTATCATCTTATGTCCTTCCCTCAGTCAGCACCTCATGGTGTAGTCTTCTTGCATGTGACTTATGTCCCTGCACAAGAAAAGAACTTCACAACTGCTCCTGCCATTTGTCATGATGGAAAAGCACACTTTCCTCGTGAAGGTGTCTTTGTTTCAAATGGCACACACTGGTTTGTAACACAAAGGAATTTTTATGAACCACAAATCATTACTACAGACAACACATTTGTGTCTGGTAACTGTGATGTTGTAATAGGAATTGTCAACAACACAGTTTATGATCCTTTGCAACCTGAATTAGACTCATTCAAGGAGGAGTTAGATAAATATTTTAAGAATCATACATCACCAGATGTTGATTTAGGTGACATCTCTGGCATTAATGCTTCAGTTGTAAACATTCAAAAAGAAATTGACCGCCTCAATGAGGTTGCCAAGAATTTAAATGAATCTCTCATCGATCTCCAAGAACTTGGAAAGTATGAGCAGTATATAAAATGGCCATGGTACATTTGGCTAGGTTTTATAGCTGGCTTGATTGCCATAGTAATGGTGACAATTATGCTTTGCTGTATGACCAGTTGCTGTAGTTGTCTCAAGGGCTGTTGTTCTTGTGGATCCTGCTGCAAATTTGATGAAGACGACTCTGAGCCAGTGCTCAAAGGAGTCAAATTACATTACACATAAACGAACTTATGGATTT'"
      ]
     },
     "execution_count": 78,
     "metadata": {},
     "output_type": "execute_result"
    }
   ],
   "source": [
    "D1.iloc[4,0][21579:25400]"
   ]
  },
  {
   "cell_type": "code",
   "execution_count": 74,
   "id": "d0a83931",
   "metadata": {},
   "outputs": [
    {
     "data": {
      "text/plain": [
       "['-', '-', '-', '-']"
      ]
     },
     "execution_count": 74,
     "metadata": {},
     "output_type": "execute_result"
    }
   ],
   "source": [
    "[D1.iloc[4,0][i] for i in range(1,5)]\n",
    "     #range(21579, 25400)]\n"
   ]
  },
  {
   "cell_type": "code",
   "execution_count": 39,
   "id": "ef99966b",
   "metadata": {},
   "outputs": [],
   "source": [
    "def DatosNulos(DF):\n",
    "    St=DF.iloc[0,0]\n",
    "    i=0\n",
    "    while St[i]=='-': i+=1\n",
    "    return(i)"
   ]
  },
  {
   "cell_type": "code",
   "execution_count": 40,
   "id": "ce6fe1f6",
   "metadata": {},
   "outputs": [
    {
     "data": {
      "text/plain": [
       "16"
      ]
     },
     "execution_count": 40,
     "metadata": {},
     "output_type": "execute_result"
    }
   ],
   "source": [
    "DatosNulos(D1)"
   ]
  },
  {
   "cell_type": "markdown",
   "id": "514aa379",
   "metadata": {},
   "source": [
    "# 1. Posiciones donde difieren dos cadenas"
   ]
  },
  {
   "cell_type": "markdown",
   "id": "d5d7bb58",
   "metadata": {},
   "source": [
    "# Por genes"
   ]
  },
  {
   "cell_type": "code",
   "execution_count": 41,
   "id": "54f70a78",
   "metadata": {},
   "outputs": [
    {
     "name": "stdout",
     "output_type": "stream",
     "text": [
      "16\n"
     ]
    }
   ],
   "source": [
    "St=D1.iloc[0,0]\n",
    "i=0\n",
    "while St[i]=='-': i+=1\n",
    "print(i)"
   ]
  },
  {
   "cell_type": "code",
   "execution_count": 42,
   "id": "edee2ef1",
   "metadata": {},
   "outputs": [
    {
     "data": {
      "text/plain": [
       "'-'"
      ]
     },
     "execution_count": 42,
     "metadata": {},
     "output_type": "execute_result"
    }
   ],
   "source": [
    "D1.iloc[0,0][1]"
   ]
  },
  {
   "cell_type": "code",
   "execution_count": 43,
   "id": "f08ac7ad",
   "metadata": {},
   "outputs": [
    {
     "data": {
      "text/plain": [
       "16"
      ]
     },
     "execution_count": 43,
     "metadata": {},
     "output_type": "execute_result"
    }
   ],
   "source": [
    "i"
   ]
  },
  {
   "cell_type": "code",
   "execution_count": 44,
   "id": "a86c5ecb",
   "metadata": {},
   "outputs": [
    {
     "data": {
      "text/plain": [
       "[[266, 13468],\n",
       " [13468, 21555],\n",
       " [21563, 25384],\n",
       " [25393, 26220],\n",
       " [26245, 26472],\n",
       " [26523, 27191],\n",
       " [27202, 27387],\n",
       " [27394, 27759],\n",
       " [27756, 27887],\n",
       " [27894, 28259],\n",
       " [28284, 28577],\n",
       " [28274, 29533]]"
      ]
     },
     "execution_count": 44,
     "metadata": {},
     "output_type": "execute_result"
    }
   ],
   "source": [
    "ranges = [\n",
    "  [266,13468],\n",
    "  [13468,21555],\n",
    "  [21563,25384],\n",
    "  [25393,26220],\n",
    "  [26245,26472],\n",
    "  [26523,27191],\n",
    "  [27202,27387],\n",
    "  [27394,27759],\n",
    "  [27756,27887],\n",
    "  [27894,28259],\n",
    "  [28284,28577],\n",
    "  [28274,29533]\n",
    "]\n",
    "ranges\n"
   ]
  },
  {
   "cell_type": "code",
   "execution_count": 45,
   "id": "f0ffc019",
   "metadata": {},
   "outputs": [
    {
     "data": {
      "text/plain": [
       "[[282, 13484],\n",
       " [13484, 21571],\n",
       " [21579, 25400],\n",
       " [25409, 26236],\n",
       " [26261, 26488],\n",
       " [26539, 27207],\n",
       " [27218, 27403],\n",
       " [27410, 27775],\n",
       " [27772, 27903],\n",
       " [27910, 28275],\n",
       " [28300, 28593],\n",
       " [28290, 29549]]"
      ]
     },
     "execution_count": 45,
     "metadata": {},
     "output_type": "execute_result"
    }
   ],
   "source": [
    "Ranges=[[a+i,b+i] for a,b in ranges]\n",
    "Ranges"
   ]
  },
  {
   "cell_type": "code",
   "execution_count": 46,
   "id": "00ad8282",
   "metadata": {},
   "outputs": [
    {
     "data": {
      "text/plain": [
       "[282, 13484]"
      ]
     },
     "execution_count": 46,
     "metadata": {},
     "output_type": "execute_result"
    }
   ],
   "source": [
    "Ranges[0]"
   ]
  },
  {
   "cell_type": "code",
   "execution_count": 47,
   "id": "b797ef51",
   "metadata": {},
   "outputs": [
    {
     "data": {
      "text/plain": [
       "(282, 13484)"
      ]
     },
     "execution_count": 47,
     "metadata": {},
     "output_type": "execute_result"
    }
   ],
   "source": [
    "Ranges[0][0], Ranges[0][1]"
   ]
  },
  {
   "cell_type": "code",
   "execution_count": 48,
   "id": "6348dba6",
   "metadata": {},
   "outputs": [
    {
     "data": {
      "text/plain": [
       "12"
      ]
     },
     "execution_count": 48,
     "metadata": {},
     "output_type": "execute_result"
    }
   ],
   "source": [
    "len(Ranges)"
   ]
  },
  {
   "cell_type": "code",
   "execution_count": 49,
   "id": "3e0245ed",
   "metadata": {},
   "outputs": [],
   "source": [
    "def dif1(m,n,D,k):\n",
    "    Dif = pd.DataFrame(columns=('Posicion', 'String1', 'String2'))\n",
    "    DifN = pd.DataFrame(columns=('Posicion', 'String1', 'String2'))\n",
    "    for i in range(Ranges[k][0], Ranges[k][1]):\n",
    "        if D.iloc[2*m,0][i]==D1.iloc[2*n,0][i]:\n",
    "            continue\n",
    "        elif D.iloc[2*m,0][i]=='N' or D.iloc[2*n,0][i]=='N':\n",
    "            DifN.loc[len(DifN)] = (i, D.iloc[2*n,0][i], D1.iloc[2*m,0][i])        \n",
    "        else: \n",
    "            Dif.loc[len(Dif)] = (i, D.iloc[2*n,0][i], D.iloc[2*m,0][i])\n",
    "    return(Dif)"
   ]
  },
  {
   "cell_type": "markdown",
   "id": "7c48682c",
   "metadata": {},
   "source": [
    "Diferencias en el gen spike:"
   ]
  },
  {
   "cell_type": "code",
   "execution_count": 50,
   "id": "8484dda1",
   "metadata": {},
   "outputs": [
    {
     "data": {
      "text/html": [
       "<div>\n",
       "<style scoped>\n",
       "    .dataframe tbody tr th:only-of-type {\n",
       "        vertical-align: middle;\n",
       "    }\n",
       "\n",
       "    .dataframe tbody tr th {\n",
       "        vertical-align: top;\n",
       "    }\n",
       "\n",
       "    .dataframe thead th {\n",
       "        text-align: right;\n",
       "    }\n",
       "</style>\n",
       "<table border=\"1\" class=\"dataframe\">\n",
       "  <thead>\n",
       "    <tr style=\"text-align: right;\">\n",
       "      <th></th>\n",
       "      <th>Posicion</th>\n",
       "      <th>String1</th>\n",
       "      <th>String2</th>\n",
       "    </tr>\n",
       "  </thead>\n",
       "  <tbody>\n",
       "    <tr>\n",
       "      <th>0</th>\n",
       "      <td>25468</td>\n",
       "      <td>C</td>\n",
       "      <td>T</td>\n",
       "    </tr>\n",
       "    <tr>\n",
       "      <th>1</th>\n",
       "      <td>25583</td>\n",
       "      <td>T</td>\n",
       "      <td>C</td>\n",
       "    </tr>\n",
       "    <tr>\n",
       "      <th>2</th>\n",
       "      <td>25646</td>\n",
       "      <td>G</td>\n",
       "      <td>-</td>\n",
       "    </tr>\n",
       "    <tr>\n",
       "      <th>3</th>\n",
       "      <td>26154</td>\n",
       "      <td>G</td>\n",
       "      <td>-</td>\n",
       "    </tr>\n",
       "    <tr>\n",
       "      <th>4</th>\n",
       "      <td>26155</td>\n",
       "      <td>T</td>\n",
       "      <td>-</td>\n",
       "    </tr>\n",
       "    <tr>\n",
       "      <th>5</th>\n",
       "      <td>26156</td>\n",
       "      <td>T</td>\n",
       "      <td>-</td>\n",
       "    </tr>\n",
       "  </tbody>\n",
       "</table>\n",
       "</div>"
      ],
      "text/plain": [
       "   Posicion String1 String2\n",
       "0     25468       C       T\n",
       "1     25583       T       C\n",
       "2     25646       G       -\n",
       "3     26154       G       -\n",
       "4     26155       T       -\n",
       "5     26156       T       -"
      ]
     },
     "execution_count": 50,
     "metadata": {},
     "output_type": "execute_result"
    }
   ],
   "source": [
    "\n",
    "dif1(2,12,D1,3)"
   ]
  },
  {
   "cell_type": "code",
   "execution_count": null,
   "id": "ef2446c5",
   "metadata": {},
   "outputs": [],
   "source": []
  },
  {
   "cell_type": "code",
   "execution_count": 51,
   "id": "a2341648",
   "metadata": {},
   "outputs": [
    {
     "data": {
      "text/html": [
       "<div>\n",
       "<style scoped>\n",
       "    .dataframe tbody tr th:only-of-type {\n",
       "        vertical-align: middle;\n",
       "    }\n",
       "\n",
       "    .dataframe tbody tr th {\n",
       "        vertical-align: top;\n",
       "    }\n",
       "\n",
       "    .dataframe thead th {\n",
       "        text-align: right;\n",
       "    }\n",
       "</style>\n",
       "<table border=\"1\" class=\"dataframe\">\n",
       "  <thead>\n",
       "    <tr style=\"text-align: right;\">\n",
       "      <th></th>\n",
       "      <th>Posicion</th>\n",
       "      <th>String1</th>\n",
       "      <th>String2</th>\n",
       "    </tr>\n",
       "  </thead>\n",
       "  <tbody>\n",
       "    <tr>\n",
       "      <th>0</th>\n",
       "      <td>15239</td>\n",
       "      <td>T</td>\n",
       "      <td>C</td>\n",
       "    </tr>\n",
       "    <tr>\n",
       "      <th>1</th>\n",
       "      <td>21122</td>\n",
       "      <td>T</td>\n",
       "      <td>G</td>\n",
       "    </tr>\n",
       "  </tbody>\n",
       "</table>\n",
       "</div>"
      ],
      "text/plain": [
       "   Posicion String1 String2\n",
       "0     15239       T       C\n",
       "1     21122       T       G"
      ]
     },
     "execution_count": 51,
     "metadata": {},
     "output_type": "execute_result"
    }
   ],
   "source": [
    "dif1(0,5,D1,1)"
   ]
  },
  {
   "cell_type": "code",
   "execution_count": 52,
   "id": "67a49a1b",
   "metadata": {},
   "outputs": [
    {
     "data": {
      "text/plain": [
       "[   Posicion String1 String2\n",
       " 0      2493       G       T\n",
       " 1      3767       C       T\n",
       " 2      4437       C       T\n",
       " 3      4539       T       C\n",
       " 4     12399       T       C,\n",
       "    Posicion String1 String2\n",
       " 0     15239       T       C\n",
       " 1     21122       T       G,\n",
       "    Posicion String1 String2\n",
       " 0     22028       -       A\n",
       " 1     22029       -       G\n",
       " 2     22030       -       T\n",
       " 3     22031       -       T\n",
       " 4     22032       -       C\n",
       " 5     22033       -       A\n",
       " 6     22225       T       G\n",
       " 7     23665       G       C,\n",
       "    Posicion String1 String2\n",
       " 0     25552       T       C,\n",
       " Empty DataFrame\n",
       " Columns: [Posicion, String1, String2]\n",
       " Index: [],\n",
       " Empty DataFrame\n",
       " Columns: [Posicion, String1, String2]\n",
       " Index: [],\n",
       " Empty DataFrame\n",
       " Columns: [Posicion, String1, String2]\n",
       " Index: [],\n",
       " Empty DataFrame\n",
       " Columns: [Posicion, String1, String2]\n",
       " Index: [],\n",
       "    Posicion String1 String2\n",
       " 0     27869       T       G,\n",
       "    Posicion String1 String2\n",
       " 0     28247       -       G\n",
       " 1     28248       -       A\n",
       " 2     28249       -       T\n",
       " 3     28250       -       T\n",
       " 4     28251       -       T\n",
       " 5     28252       -       A\n",
       " 6     28270       -       A,\n",
       " Empty DataFrame\n",
       " Columns: [Posicion, String1, String2]\n",
       " Index: [],\n",
       " Empty DataFrame\n",
       " Columns: [Posicion, String1, String2]\n",
       " Index: []]"
      ]
     },
     "execution_count": 52,
     "metadata": {},
     "output_type": "execute_result"
    }
   ],
   "source": [
    "[dif1(0,5,D1,j) for j in range(len(Ranges))]"
   ]
  },
  {
   "cell_type": "code",
   "execution_count": 53,
   "id": "ab9513c2",
   "metadata": {},
   "outputs": [
    {
     "data": {
      "text/plain": [
       "[9, 4, 4, 0, 0, 0, 0, 0, 0, 1, 0, 2]"
      ]
     },
     "execution_count": 53,
     "metadata": {},
     "output_type": "execute_result"
    }
   ],
   "source": [
    "[len(dif1(0,1,D1,j)) for j in range(len(Ranges))]"
   ]
  },
  {
   "cell_type": "code",
   "execution_count": 57,
   "id": "9fadaed0",
   "metadata": {},
   "outputs": [
    {
     "data": {
      "text/plain": [
       "[13202, 8087, 3821, 827, 227, 668, 185, 365, 131, 365, 293, 1259]"
      ]
     },
     "execution_count": 57,
     "metadata": {},
     "output_type": "execute_result"
    }
   ],
   "source": [
    "[Ranges[j][1]-Ranges[j][0] for j in range(len(Ranges))]"
   ]
  },
  {
   "cell_type": "code",
   "execution_count": null,
   "id": "6bfc23ba",
   "metadata": {},
   "outputs": [],
   "source": [
    "df = pd.DataFrame()"
   ]
  },
  {
   "cell_type": "code",
   "execution_count": 58,
   "id": "751e952b",
   "metadata": {},
   "outputs": [
    {
     "data": {
      "text/plain": [
       "[0.0006817148916830783,\n",
       " 0.0004946209966613083,\n",
       " 0.0010468463752944255,\n",
       " 0.0,\n",
       " 0.0,\n",
       " 0.0,\n",
       " 0.0,\n",
       " 0.0,\n",
       " 0.0,\n",
       " 0.0027397260273972603,\n",
       " 0.0,\n",
       " 0.0015885623510722795]"
      ]
     },
     "execution_count": 58,
     "metadata": {},
     "output_type": "execute_result"
    }
   ],
   "source": [
    "[len(dif1(0,1,D1,j))/(Ranges[j][1]-Ranges[j][0]) for j in range(len(Ranges))]"
   ]
  },
  {
   "cell_type": "code",
   "execution_count": null,
   "id": "9c242b79",
   "metadata": {},
   "outputs": [],
   "source": []
  },
  {
   "cell_type": "code",
   "execution_count": 30,
   "id": "eec98a4d",
   "metadata": {},
   "outputs": [
    {
     "data": {
      "text/plain": [
       "20"
      ]
     },
     "execution_count": 30,
     "metadata": {},
     "output_type": "execute_result"
    }
   ],
   "source": [
    "np.sum([len(dif1(0,1,D1,j)) for j in range(len(Ranges))])"
   ]
  },
  {
   "cell_type": "markdown",
   "id": "bbb36c2d",
   "metadata": {},
   "source": [
    "# Por genoma\n",
    "(en un rango conveniente)\n"
   ]
  },
  {
   "cell_type": "code",
   "execution_count": 34,
   "id": "9f99228d",
   "metadata": {},
   "outputs": [],
   "source": [
    "def dif2(m,n,D):\n",
    "    Dif = pd.DataFrame(columns=('Posicion', 'String1', 'String2'))\n",
    "    DifN = pd.DataFrame(columns=('Posicion', 'String1', 'String2'))\n",
    "    for i in range(282,29549):\n",
    "        if D.iloc[2*m,0][i]==D1.iloc[2*n,0][i]:\n",
    "            continue\n",
    "        elif D.iloc[2*m,0][i]=='N' or D.iloc[2*n,0][i]=='N':\n",
    "            DifN.loc[len(DifN)] = (i, D.iloc[2*n,0][i], D1.iloc[2*m,0][i])        \n",
    "        else: \n",
    "            Dif.loc[len(Dif)] = (i, D.iloc[2*n,0][i], D.iloc[2*m,0][i])\n",
    "    return(Dif)"
   ]
  },
  {
   "cell_type": "markdown",
   "id": "01a9062b",
   "metadata": {},
   "source": [
    "Diferencia total:"
   ]
  },
  {
   "cell_type": "code",
   "execution_count": 35,
   "id": "2a4b67ca",
   "metadata": {},
   "outputs": [
    {
     "data": {
      "text/html": [
       "<div>\n",
       "<style scoped>\n",
       "    .dataframe tbody tr th:only-of-type {\n",
       "        vertical-align: middle;\n",
       "    }\n",
       "\n",
       "    .dataframe tbody tr th {\n",
       "        vertical-align: top;\n",
       "    }\n",
       "\n",
       "    .dataframe thead th {\n",
       "        text-align: right;\n",
       "    }\n",
       "</style>\n",
       "<table border=\"1\" class=\"dataframe\">\n",
       "  <thead>\n",
       "    <tr style=\"text-align: right;\">\n",
       "      <th></th>\n",
       "      <th>Posicion</th>\n",
       "      <th>String1</th>\n",
       "      <th>String2</th>\n",
       "    </tr>\n",
       "  </thead>\n",
       "  <tbody>\n",
       "    <tr>\n",
       "      <th>0</th>\n",
       "      <td>1047</td>\n",
       "      <td>G</td>\n",
       "      <td>T</td>\n",
       "    </tr>\n",
       "    <tr>\n",
       "      <th>1</th>\n",
       "      <td>1883</td>\n",
       "      <td>C</td>\n",
       "      <td>-</td>\n",
       "    </tr>\n",
       "    <tr>\n",
       "      <th>2</th>\n",
       "      <td>2831</td>\n",
       "      <td>G</td>\n",
       "      <td>A</td>\n",
       "    </tr>\n",
       "    <tr>\n",
       "      <th>3</th>\n",
       "      <td>4180</td>\n",
       "      <td>G</td>\n",
       "      <td>T</td>\n",
       "    </tr>\n",
       "    <tr>\n",
       "      <th>4</th>\n",
       "      <td>5385</td>\n",
       "      <td>G</td>\n",
       "      <td>T</td>\n",
       "    </tr>\n",
       "    <tr>\n",
       "      <th>...</th>\n",
       "      <td>...</td>\n",
       "      <td>...</td>\n",
       "      <td>...</td>\n",
       "    </tr>\n",
       "    <tr>\n",
       "      <th>82</th>\n",
       "      <td>28880</td>\n",
       "      <td>A</td>\n",
       "      <td>T</td>\n",
       "    </tr>\n",
       "    <tr>\n",
       "      <th>83</th>\n",
       "      <td>28881</td>\n",
       "      <td>A</td>\n",
       "      <td>G</td>\n",
       "    </tr>\n",
       "    <tr>\n",
       "      <th>84</th>\n",
       "      <td>28882</td>\n",
       "      <td>C</td>\n",
       "      <td>G</td>\n",
       "    </tr>\n",
       "    <tr>\n",
       "      <th>85</th>\n",
       "      <td>28915</td>\n",
       "      <td>G</td>\n",
       "      <td>T</td>\n",
       "    </tr>\n",
       "    <tr>\n",
       "      <th>86</th>\n",
       "      <td>29401</td>\n",
       "      <td>G</td>\n",
       "      <td>T</td>\n",
       "    </tr>\n",
       "  </tbody>\n",
       "</table>\n",
       "<p>87 rows × 3 columns</p>\n",
       "</div>"
      ],
      "text/plain": [
       "    Posicion String1 String2\n",
       "0       1047       G       T\n",
       "1       1883       C       -\n",
       "2       2831       G       A\n",
       "3       4180       G       T\n",
       "4       5385       G       T\n",
       "..       ...     ...     ...\n",
       "82     28880       A       T\n",
       "83     28881       A       G\n",
       "84     28882       C       G\n",
       "85     28915       G       T\n",
       "86     29401       G       T\n",
       "\n",
       "[87 rows x 3 columns]"
      ]
     },
     "execution_count": 35,
     "metadata": {},
     "output_type": "execute_result"
    }
   ],
   "source": [
    "dif2(2,12,D1)"
   ]
  },
  {
   "cell_type": "code",
   "execution_count": null,
   "id": "d11b0d2e",
   "metadata": {},
   "outputs": [],
   "source": []
  },
  {
   "cell_type": "markdown",
   "id": "c704cf85",
   "metadata": {},
   "source": []
  },
  {
   "cell_type": "markdown",
   "id": "24476a65",
   "metadata": {},
   "source": [
    "# Por genoma\n",
    "(en todo el rango)"
   ]
  },
  {
   "cell_type": "code",
   "execution_count": 33,
   "id": "89ca36f9",
   "metadata": {},
   "outputs": [],
   "source": [
    "def dif(m,n,D):\n",
    "    Dif = pd.DataFrame(columns=('Posicion', 'String1', 'String2'))\n",
    "    DifN = pd.DataFrame(columns=('Posicion', 'String1', 'String2'))\n",
    "    for i in range(len(D.iloc[0,0])):\n",
    "        if D.iloc[2*m,0][i]==D1.iloc[2*n,0][i]:\n",
    "            continue\n",
    "        elif D.iloc[2*m,0][i]=='N' or D.iloc[2*n,0][i]=='N':\n",
    "            DifN.loc[len(DifN)] = (i, D.iloc[2*n,0][i], D1.iloc[2*m,0][i])        \n",
    "        else: \n",
    "            Dif.loc[len(Dif)] = (i, D.iloc[2*n,0][i], D.iloc[2*m,0][i])\n",
    "    return(Dif)\n"
   ]
  },
  {
   "cell_type": "code",
   "execution_count": 127,
   "id": "289a6924",
   "metadata": {},
   "outputs": [
    {
     "data": {
      "text/html": [
       "<div>\n",
       "<style scoped>\n",
       "    .dataframe tbody tr th:only-of-type {\n",
       "        vertical-align: middle;\n",
       "    }\n",
       "\n",
       "    .dataframe tbody tr th {\n",
       "        vertical-align: top;\n",
       "    }\n",
       "\n",
       "    .dataframe thead th {\n",
       "        text-align: right;\n",
       "    }\n",
       "</style>\n",
       "<table border=\"1\" class=\"dataframe\">\n",
       "  <thead>\n",
       "    <tr style=\"text-align: right;\">\n",
       "      <th></th>\n",
       "      <th>Posicion</th>\n",
       "      <th>String1</th>\n",
       "      <th>String2</th>\n",
       "    </tr>\n",
       "  </thead>\n",
       "  <tbody>\n",
       "    <tr>\n",
       "      <th>0</th>\n",
       "      <td>2</td>\n",
       "      <td>T</td>\n",
       "      <td>-</td>\n",
       "    </tr>\n",
       "    <tr>\n",
       "      <th>1</th>\n",
       "      <td>3</td>\n",
       "      <td>A</td>\n",
       "      <td>-</td>\n",
       "    </tr>\n",
       "    <tr>\n",
       "      <th>2</th>\n",
       "      <td>4</td>\n",
       "      <td>A</td>\n",
       "      <td>-</td>\n",
       "    </tr>\n",
       "    <tr>\n",
       "      <th>3</th>\n",
       "      <td>5</td>\n",
       "      <td>A</td>\n",
       "      <td>-</td>\n",
       "    </tr>\n",
       "    <tr>\n",
       "      <th>4</th>\n",
       "      <td>6</td>\n",
       "      <td>G</td>\n",
       "      <td>-</td>\n",
       "    </tr>\n",
       "    <tr>\n",
       "      <th>...</th>\n",
       "      <td>...</td>\n",
       "      <td>...</td>\n",
       "      <td>...</td>\n",
       "    </tr>\n",
       "    <tr>\n",
       "      <th>155</th>\n",
       "      <td>29898</td>\n",
       "      <td>-</td>\n",
       "      <td>A</td>\n",
       "    </tr>\n",
       "    <tr>\n",
       "      <th>156</th>\n",
       "      <td>29899</td>\n",
       "      <td>-</td>\n",
       "      <td>A</td>\n",
       "    </tr>\n",
       "    <tr>\n",
       "      <th>157</th>\n",
       "      <td>29900</td>\n",
       "      <td>-</td>\n",
       "      <td>A</td>\n",
       "    </tr>\n",
       "    <tr>\n",
       "      <th>158</th>\n",
       "      <td>29901</td>\n",
       "      <td>-</td>\n",
       "      <td>A</td>\n",
       "    </tr>\n",
       "    <tr>\n",
       "      <th>159</th>\n",
       "      <td>29902</td>\n",
       "      <td>-</td>\n",
       "      <td>A</td>\n",
       "    </tr>\n",
       "  </tbody>\n",
       "</table>\n",
       "<p>160 rows × 3 columns</p>\n",
       "</div>"
      ],
      "text/plain": [
       "     Posicion String1 String2\n",
       "0           2       T       -\n",
       "1           3       A       -\n",
       "2           4       A       -\n",
       "3           5       A       -\n",
       "4           6       G       -\n",
       "..        ...     ...     ...\n",
       "155     29898       -       A\n",
       "156     29899       -       A\n",
       "157     29900       -       A\n",
       "158     29901       -       A\n",
       "159     29902       -       A\n",
       "\n",
       "[160 rows x 3 columns]"
      ]
     },
     "execution_count": 127,
     "metadata": {},
     "output_type": "execute_result"
    }
   ],
   "source": [
    "dif(0,1,D1)"
   ]
  },
  {
   "cell_type": "markdown",
   "id": "4300daba",
   "metadata": {},
   "source": [
    "# 2. Distancias\n"
   ]
  },
  {
   "cell_type": "code",
   "execution_count": 73,
   "id": "04522f44",
   "metadata": {},
   "outputs": [],
   "source": [
    "m=5\n",
    "for k in range(m):    \n",
    "    for j in range(k):\n",
    "        Dif = pd.DataFrame(columns=('Posicion', 'String1', 'String2'))\n",
    "        DifN = pd.DataFrame(columns=('Posicion', 'String1', 'String2'))\n",
    "        for i in range(len(D1.iloc[0,0])):\n",
    "            if D1.iloc[2*k,0][i]==D1.iloc[2*j,0][i]:\n",
    "                continue\n",
    "            elif D1.iloc[2*k,0][i]=='N' or D1.iloc[2*j,0][i]=='N':\n",
    "                DifN.loc[len(DifN)] = (i, D1.iloc[2*k,0][i], D1.iloc[2*j,0][i])        \n",
    "            else: \n",
    "                Dif.loc[len(Dif)] = (i, D1.iloc[2*k,0][i], D1.iloc[2*j,0][i])    \n",
    "        #print(\"la distancia entre\", k, \"y\", j, \"es\", len(Dif))"
   ]
  },
  {
   "cell_type": "code",
   "execution_count": 74,
   "id": "286af4fc",
   "metadata": {},
   "outputs": [
    {
     "data": {
      "text/html": [
       "<div>\n",
       "<style scoped>\n",
       "    .dataframe tbody tr th:only-of-type {\n",
       "        vertical-align: middle;\n",
       "    }\n",
       "\n",
       "    .dataframe tbody tr th {\n",
       "        vertical-align: top;\n",
       "    }\n",
       "\n",
       "    .dataframe thead th {\n",
       "        text-align: right;\n",
       "    }\n",
       "</style>\n",
       "<table border=\"1\" class=\"dataframe\">\n",
       "  <thead>\n",
       "    <tr style=\"text-align: right;\">\n",
       "      <th></th>\n",
       "      <th>0</th>\n",
       "      <th>1</th>\n",
       "      <th>2</th>\n",
       "      <th>3</th>\n",
       "      <th>4</th>\n",
       "    </tr>\n",
       "  </thead>\n",
       "  <tbody>\n",
       "    <tr>\n",
       "      <th>0</th>\n",
       "      <td>0.0</td>\n",
       "      <td>160.0</td>\n",
       "      <td>73.0</td>\n",
       "      <td>92.0</td>\n",
       "      <td>92.0</td>\n",
       "    </tr>\n",
       "    <tr>\n",
       "      <th>1</th>\n",
       "      <td>160.0</td>\n",
       "      <td>0.0</td>\n",
       "      <td>147.0</td>\n",
       "      <td>165.0</td>\n",
       "      <td>111.0</td>\n",
       "    </tr>\n",
       "    <tr>\n",
       "      <th>2</th>\n",
       "      <td>73.0</td>\n",
       "      <td>147.0</td>\n",
       "      <td>0.0</td>\n",
       "      <td>45.0</td>\n",
       "      <td>74.0</td>\n",
       "    </tr>\n",
       "    <tr>\n",
       "      <th>3</th>\n",
       "      <td>92.0</td>\n",
       "      <td>165.0</td>\n",
       "      <td>45.0</td>\n",
       "      <td>0.0</td>\n",
       "      <td>76.0</td>\n",
       "    </tr>\n",
       "    <tr>\n",
       "      <th>4</th>\n",
       "      <td>92.0</td>\n",
       "      <td>111.0</td>\n",
       "      <td>74.0</td>\n",
       "      <td>76.0</td>\n",
       "      <td>0.0</td>\n",
       "    </tr>\n",
       "  </tbody>\n",
       "</table>\n",
       "</div>"
      ],
      "text/plain": [
       "       0      1      2      3      4\n",
       "0    0.0  160.0   73.0   92.0   92.0\n",
       "1  160.0    0.0  147.0  165.0  111.0\n",
       "2   73.0  147.0    0.0   45.0   74.0\n",
       "3   92.0  165.0   45.0    0.0   76.0\n",
       "4   92.0  111.0   74.0   76.0    0.0"
      ]
     },
     "execution_count": 74,
     "metadata": {},
     "output_type": "execute_result"
    }
   ],
   "source": [
    "m=5\n",
    "M_dist_array = np.zeros(shape=(m,m))\n",
    "M_dist=pd.DataFrame(M_dist_array)\n",
    "for k in range(m):    \n",
    "    for j in range(k):\n",
    "        Dif = pd.DataFrame(columns=('Posicion', 'String1', 'String2'))\n",
    "        DifN = pd.DataFrame(columns=('Posicion', 'String1', 'String2'))\n",
    "        for i in range(len(D1.iloc[0,0])):\n",
    "            if D1.iloc[2*k,0][i]==D1.iloc[2*j,0][i]:\n",
    "                continue\n",
    "            elif D1.iloc[2*k,0][i]=='N' or D1.iloc[2*j,0][i]=='N':\n",
    "                DifN.loc[len(DifN)] = (i, D1.iloc[2*k,0][i], D1.iloc[2*j,0][i])        \n",
    "            else: \n",
    "                Dif.loc[len(Dif)] = (i, D1.iloc[2*k,0][i], D1.iloc[2*j,0][i])    \n",
    "       # print(\"la distancia entre\", k, \"y\", j, \"es\", len(Dif))\n",
    "        M_dist.iloc[k,j]=len(Dif)\n",
    "        M_dist.iloc[j,k]=len(Dif)       \n",
    "M_dist"
   ]
  },
  {
   "cell_type": "markdown",
   "id": "8101105a",
   "metadata": {},
   "source": [
    "\n",
    "# 3. Matriz de distancias"
   ]
  },
  {
   "cell_type": "markdown",
   "id": "86844369",
   "metadata": {},
   "source": [
    "# Por genoma"
   ]
  },
  {
   "cell_type": "code",
   "execution_count": 75,
   "id": "0585db6c",
   "metadata": {},
   "outputs": [],
   "source": [
    "def M(m,DF):\n",
    "    M_dist_array = np.zeros(shape=(m,m))\n",
    "    M_dist=pd.DataFrame(M_dist_array)\n",
    "\n",
    "    for k in range(m):  \n",
    "        for j in range(k):\n",
    "            cont=0\n",
    "            for i in range(len(DF.iloc[0,0])):\n",
    "                if DF.iloc[2*k,0][i]==DF.iloc[2*j,0][i]:\n",
    "                    continue\n",
    "                elif DF.iloc[2*k,0][i]=='N' or DF.iloc[2*j,0][i]=='N':\n",
    "                    continue                 \n",
    "                else:\n",
    "                    cont=cont+1\n",
    "            M_dist.iloc[k,j]=cont\n",
    "            M_dist.iloc[j,k]=cont        \n",
    "    return(M_dist)"
   ]
  },
  {
   "cell_type": "code",
   "execution_count": 77,
   "id": "74573213",
   "metadata": {},
   "outputs": [
    {
     "data": {
      "text/html": [
       "<div>\n",
       "<style scoped>\n",
       "    .dataframe tbody tr th:only-of-type {\n",
       "        vertical-align: middle;\n",
       "    }\n",
       "\n",
       "    .dataframe tbody tr th {\n",
       "        vertical-align: top;\n",
       "    }\n",
       "\n",
       "    .dataframe thead th {\n",
       "        text-align: right;\n",
       "    }\n",
       "</style>\n",
       "<table border=\"1\" class=\"dataframe\">\n",
       "  <thead>\n",
       "    <tr style=\"text-align: right;\">\n",
       "      <th></th>\n",
       "      <th>0</th>\n",
       "      <th>1</th>\n",
       "      <th>2</th>\n",
       "      <th>3</th>\n",
       "      <th>4</th>\n",
       "      <th>5</th>\n",
       "    </tr>\n",
       "  </thead>\n",
       "  <tbody>\n",
       "    <tr>\n",
       "      <th>0</th>\n",
       "      <td>0.0</td>\n",
       "      <td>160.0</td>\n",
       "      <td>73.0</td>\n",
       "      <td>92.0</td>\n",
       "      <td>92.0</td>\n",
       "      <td>129.0</td>\n",
       "    </tr>\n",
       "    <tr>\n",
       "      <th>1</th>\n",
       "      <td>160.0</td>\n",
       "      <td>0.0</td>\n",
       "      <td>147.0</td>\n",
       "      <td>165.0</td>\n",
       "      <td>111.0</td>\n",
       "      <td>144.0</td>\n",
       "    </tr>\n",
       "    <tr>\n",
       "      <th>2</th>\n",
       "      <td>73.0</td>\n",
       "      <td>147.0</td>\n",
       "      <td>0.0</td>\n",
       "      <td>45.0</td>\n",
       "      <td>74.0</td>\n",
       "      <td>105.0</td>\n",
       "    </tr>\n",
       "    <tr>\n",
       "      <th>3</th>\n",
       "      <td>92.0</td>\n",
       "      <td>165.0</td>\n",
       "      <td>45.0</td>\n",
       "      <td>0.0</td>\n",
       "      <td>76.0</td>\n",
       "      <td>88.0</td>\n",
       "    </tr>\n",
       "    <tr>\n",
       "      <th>4</th>\n",
       "      <td>92.0</td>\n",
       "      <td>111.0</td>\n",
       "      <td>74.0</td>\n",
       "      <td>76.0</td>\n",
       "      <td>0.0</td>\n",
       "      <td>50.0</td>\n",
       "    </tr>\n",
       "    <tr>\n",
       "      <th>5</th>\n",
       "      <td>129.0</td>\n",
       "      <td>144.0</td>\n",
       "      <td>105.0</td>\n",
       "      <td>88.0</td>\n",
       "      <td>50.0</td>\n",
       "      <td>0.0</td>\n",
       "    </tr>\n",
       "  </tbody>\n",
       "</table>\n",
       "</div>"
      ],
      "text/plain": [
       "       0      1      2      3      4      5\n",
       "0    0.0  160.0   73.0   92.0   92.0  129.0\n",
       "1  160.0    0.0  147.0  165.0  111.0  144.0\n",
       "2   73.0  147.0    0.0   45.0   74.0  105.0\n",
       "3   92.0  165.0   45.0    0.0   76.0   88.0\n",
       "4   92.0  111.0   74.0   76.0    0.0   50.0\n",
       "5  129.0  144.0  105.0   88.0   50.0    0.0"
      ]
     },
     "execution_count": 77,
     "metadata": {},
     "output_type": "execute_result"
    }
   ],
   "source": [
    "M(6,D1)"
   ]
  },
  {
   "cell_type": "code",
   "execution_count": null,
   "id": "aa4fa29b",
   "metadata": {},
   "outputs": [],
   "source": [
    "D2=pd.read_csv(\"alineado_mezclado.fasta\")\n",
    "M(6,D2)"
   ]
  },
  {
   "cell_type": "code",
   "execution_count": null,
   "id": "3e66eb1f",
   "metadata": {},
   "outputs": [],
   "source": [
    "D3=pd.read_csv(\"Alineado_prueba_con_GENOMA_REFERENCIA.fasta\")\n",
    "M(7,D3)"
   ]
  },
  {
   "cell_type": "code",
   "execution_count": null,
   "id": "357576b8",
   "metadata": {},
   "outputs": [],
   "source": [
    "D4=pd.read_csv(\"Alineado_prueba.fasta\")\n",
    "M(6,D4)"
   ]
  },
  {
   "cell_type": "code",
   "execution_count": null,
   "id": "c56f5e8f",
   "metadata": {},
   "outputs": [],
   "source": [
    "def M_aco(m,DF):\n",
    "    M_dist_array = np.zeros(shape=(m,m))\n",
    "    M_dist=pd.DataFrame(M_dist_array)\n",
    "\n",
    "    for k in range(m):  \n",
    "        for j in range(k):\n",
    "            cont=0\n",
    "            for i in range(282,29549):\n",
    "                if DF.iloc[2*k,0][i]==DF.iloc[2*j,0][i]:\n",
    "                    continue\n",
    "                elif DF.iloc[2*k,0][i]=='N' or DF.iloc[2*j,0][i]=='N':\n",
    "                    continue                 \n",
    "                else:\n",
    "                    cont=cont+1\n",
    "            M_dist.iloc[k,j]=cont\n",
    "            M_dist.iloc[j,k]=cont        \n",
    "    return(M_dist)"
   ]
  },
  {
   "cell_type": "code",
   "execution_count": null,
   "id": "e908cb4c",
   "metadata": {
    "scrolled": true
   },
   "outputs": [],
   "source": [
    "np.ceil(len(D1)/2)"
   ]
  },
  {
   "cell_type": "code",
   "execution_count": null,
   "id": "d9ff5aa7",
   "metadata": {},
   "outputs": [],
   "source": [
    "np.ceil(34.6)"
   ]
  },
  {
   "cell_type": "markdown",
   "id": "6f9e3762",
   "metadata": {},
   "source": [
    "# Pruebas"
   ]
  },
  {
   "cell_type": "code",
   "execution_count": 78,
   "id": "ea17a583",
   "metadata": {},
   "outputs": [],
   "source": [
    "def DatosNulos(DF):\n",
    "    St=DF.iloc[0,0]\n",
    "    i=0\n",
    "    while St[i]=='-': i+=1\n",
    "    return(i)"
   ]
  },
  {
   "cell_type": "code",
   "execution_count": 79,
   "id": "d84365ae",
   "metadata": {},
   "outputs": [],
   "source": [
    "def NuevosValores(Df):\n",
    "    i=DatosNulos(Df)\n",
    "    ranges = [\n",
    "  [266,13468],\n",
    "  [13468,21555],\n",
    "  [21563,25384],\n",
    "  [25393,26220],\n",
    "  [26245,26472],\n",
    "  [26523,27191],\n",
    "  [27202,27387],\n",
    "  [27394,27759],\n",
    "  [27756,27887],\n",
    "  [27894,28259],\n",
    "  [28284,28577],\n",
    "  [28274,29533]\n",
    "]\n",
    "    Ranges=[[a+i,b+i] for a,b in ranges]\n",
    "    return(Ranges)"
   ]
  },
  {
   "cell_type": "code",
   "execution_count": 80,
   "id": "f1fadbea",
   "metadata": {},
   "outputs": [
    {
     "data": {
      "text/plain": [
       "[[282, 13484],\n",
       " [13484, 21571],\n",
       " [21579, 25400],\n",
       " [25409, 26236],\n",
       " [26261, 26488],\n",
       " [26539, 27207],\n",
       " [27218, 27403],\n",
       " [27410, 27775],\n",
       " [27772, 27903],\n",
       " [27910, 28275],\n",
       " [28300, 28593],\n",
       " [28290, 29549]]"
      ]
     },
     "execution_count": 80,
     "metadata": {},
     "output_type": "execute_result"
    }
   ],
   "source": [
    "m=int(np.ceil(len(D1)/2))    \n",
    "Rangos=NuevosValores(D1)\n",
    "Rangos"
   ]
  },
  {
   "cell_type": "code",
   "execution_count": 107,
   "id": "f89b3eab",
   "metadata": {},
   "outputs": [
    {
     "data": {
      "text/html": [
       "<div>\n",
       "<style scoped>\n",
       "    .dataframe tbody tr th:only-of-type {\n",
       "        vertical-align: middle;\n",
       "    }\n",
       "\n",
       "    .dataframe tbody tr th {\n",
       "        vertical-align: top;\n",
       "    }\n",
       "\n",
       "    .dataframe thead th {\n",
       "        text-align: right;\n",
       "    }\n",
       "</style>\n",
       "<table border=\"1\" class=\"dataframe\">\n",
       "  <thead>\n",
       "    <tr style=\"text-align: right;\">\n",
       "      <th></th>\n",
       "      <th>0</th>\n",
       "      <th>1</th>\n",
       "      <th>2</th>\n",
       "      <th>3</th>\n",
       "      <th>4</th>\n",
       "    </tr>\n",
       "  </thead>\n",
       "  <tbody>\n",
       "    <tr>\n",
       "      <th>0</th>\n",
       "      <td>[0, 0, 0, 0, 0, 0, 0, 0, 0, 0, 0, 0]</td>\n",
       "      <td>[0, 0, 0, 0, 0, 0, 0, 0, 0, 0, 0, 0]</td>\n",
       "      <td>[0, 0, 0, 0, 0, 0, 0, 0, 0, 0, 0, 0]</td>\n",
       "      <td>[0, 0, 0, 0, 0, 0, 0, 0, 0, 0, 0, 0]</td>\n",
       "      <td>[0, 0, 0, 0, 0, 0, 0, 0, 0, 0, 0, 0]</td>\n",
       "    </tr>\n",
       "    <tr>\n",
       "      <th>1</th>\n",
       "      <td>[0, 0, 0, 0, 0, 0, 0, 0, 0, 0, 0, 0]</td>\n",
       "      <td>[0, 0, 0, 0, 0, 0, 0, 0, 0, 0, 0, 0]</td>\n",
       "      <td>[0, 0, 0, 0, 0, 0, 0, 0, 0, 0, 0, 0]</td>\n",
       "      <td>[0, 0, 0, 0, 0, 0, 0, 0, 0, 0, 0, 0]</td>\n",
       "      <td>[0, 0, 0, 0, 0, 0, 0, 0, 0, 0, 0, 0]</td>\n",
       "    </tr>\n",
       "    <tr>\n",
       "      <th>2</th>\n",
       "      <td>[0, 0, 0, 0, 0, 0, 0, 0, 0, 0, 0, 0]</td>\n",
       "      <td>[0, 0, 0, 0, 0, 0, 0, 0, 0, 0, 0, 0]</td>\n",
       "      <td>[0, 0, 0, 0, 0, 0, 0, 0, 0, 0, 0, 0]</td>\n",
       "      <td>[0, 0, 0, 0, 0, 0, 0, 0, 0, 0, 0, 0]</td>\n",
       "      <td>[0, 0, 0, 0, 0, 0, 0, 0, 0, 0, 0, 0]</td>\n",
       "    </tr>\n",
       "    <tr>\n",
       "      <th>3</th>\n",
       "      <td>[0, 0, 0, 0, 0, 0, 0, 0, 0, 0, 0, 0]</td>\n",
       "      <td>[0, 0, 0, 0, 0, 0, 0, 0, 0, 0, 0, 0]</td>\n",
       "      <td>[0, 0, 0, 0, 0, 0, 0, 0, 0, 0, 0, 0]</td>\n",
       "      <td>[0, 0, 0, 0, 0, 0, 0, 0, 0, 0, 0, 0]</td>\n",
       "      <td>[0, 0, 0, 0, 0, 0, 0, 0, 0, 0, 0, 0]</td>\n",
       "    </tr>\n",
       "    <tr>\n",
       "      <th>4</th>\n",
       "      <td>[0, 0, 0, 0, 0, 0, 0, 0, 0, 0, 0, 0]</td>\n",
       "      <td>[0, 0, 0, 0, 0, 0, 0, 0, 0, 0, 0, 0]</td>\n",
       "      <td>[0, 0, 0, 0, 0, 0, 0, 0, 0, 0, 0, 0]</td>\n",
       "      <td>[0, 0, 0, 0, 0, 0, 0, 0, 0, 0, 0, 0]</td>\n",
       "      <td>[0, 0, 0, 0, 0, 0, 0, 0, 0, 0, 0, 0]</td>\n",
       "    </tr>\n",
       "  </tbody>\n",
       "</table>\n",
       "</div>"
      ],
      "text/plain": [
       "                                      0                                     1  \\\n",
       "0  [0, 0, 0, 0, 0, 0, 0, 0, 0, 0, 0, 0]  [0, 0, 0, 0, 0, 0, 0, 0, 0, 0, 0, 0]   \n",
       "1  [0, 0, 0, 0, 0, 0, 0, 0, 0, 0, 0, 0]  [0, 0, 0, 0, 0, 0, 0, 0, 0, 0, 0, 0]   \n",
       "2  [0, 0, 0, 0, 0, 0, 0, 0, 0, 0, 0, 0]  [0, 0, 0, 0, 0, 0, 0, 0, 0, 0, 0, 0]   \n",
       "3  [0, 0, 0, 0, 0, 0, 0, 0, 0, 0, 0, 0]  [0, 0, 0, 0, 0, 0, 0, 0, 0, 0, 0, 0]   \n",
       "4  [0, 0, 0, 0, 0, 0, 0, 0, 0, 0, 0, 0]  [0, 0, 0, 0, 0, 0, 0, 0, 0, 0, 0, 0]   \n",
       "\n",
       "                                      2                                     3  \\\n",
       "0  [0, 0, 0, 0, 0, 0, 0, 0, 0, 0, 0, 0]  [0, 0, 0, 0, 0, 0, 0, 0, 0, 0, 0, 0]   \n",
       "1  [0, 0, 0, 0, 0, 0, 0, 0, 0, 0, 0, 0]  [0, 0, 0, 0, 0, 0, 0, 0, 0, 0, 0, 0]   \n",
       "2  [0, 0, 0, 0, 0, 0, 0, 0, 0, 0, 0, 0]  [0, 0, 0, 0, 0, 0, 0, 0, 0, 0, 0, 0]   \n",
       "3  [0, 0, 0, 0, 0, 0, 0, 0, 0, 0, 0, 0]  [0, 0, 0, 0, 0, 0, 0, 0, 0, 0, 0, 0]   \n",
       "4  [0, 0, 0, 0, 0, 0, 0, 0, 0, 0, 0, 0]  [0, 0, 0, 0, 0, 0, 0, 0, 0, 0, 0, 0]   \n",
       "\n",
       "                                      4  \n",
       "0  [0, 0, 0, 0, 0, 0, 0, 0, 0, 0, 0, 0]  \n",
       "1  [0, 0, 0, 0, 0, 0, 0, 0, 0, 0, 0, 0]  \n",
       "2  [0, 0, 0, 0, 0, 0, 0, 0, 0, 0, 0, 0]  \n",
       "3  [0, 0, 0, 0, 0, 0, 0, 0, 0, 0, 0, 0]  \n",
       "4  [0, 0, 0, 0, 0, 0, 0, 0, 0, 0, 0, 0]  "
      ]
     },
     "execution_count": 107,
     "metadata": {},
     "output_type": "execute_result"
    }
   ],
   "source": [
    "m=5\n",
    "M_dist=pd.DataFrame([[[0]*12]*m  for i in range(m)])    \n",
    "M_dist"
   ]
  },
  {
   "cell_type": "code",
   "execution_count": 94,
   "id": "65818f8b",
   "metadata": {},
   "outputs": [
    {
     "data": {
      "text/plain": [
       "[0, 0, 0, 0, 0, 0, 0, 0, 0, 0, 0, 0]"
      ]
     },
     "execution_count": 94,
     "metadata": {},
     "output_type": "execute_result"
    }
   ],
   "source": [
    "M_dist.iloc[0,1]"
   ]
  },
  {
   "cell_type": "code",
   "execution_count": 95,
   "id": "fbc0d4a2",
   "metadata": {},
   "outputs": [
    {
     "data": {
      "text/plain": [
       "[9, 4, 4, 0, 0, 0, 0, 0, 0, 1, 0, 2]"
      ]
     },
     "execution_count": 95,
     "metadata": {},
     "output_type": "execute_result"
    }
   ],
   "source": [
    "[len(dif1(0,1,D1,j)) for j in range(len(Ranges))]\n"
   ]
  },
  {
   "cell_type": "code",
   "execution_count": 104,
   "id": "f3719d0e",
   "metadata": {},
   "outputs": [
    {
     "data": {
      "text/html": [
       "<div>\n",
       "<style scoped>\n",
       "    .dataframe tbody tr th:only-of-type {\n",
       "        vertical-align: middle;\n",
       "    }\n",
       "\n",
       "    .dataframe tbody tr th {\n",
       "        vertical-align: top;\n",
       "    }\n",
       "\n",
       "    .dataframe thead th {\n",
       "        text-align: right;\n",
       "    }\n",
       "</style>\n",
       "<table border=\"1\" class=\"dataframe\">\n",
       "  <thead>\n",
       "    <tr style=\"text-align: right;\">\n",
       "      <th></th>\n",
       "      <th>Posicion</th>\n",
       "      <th>String1</th>\n",
       "      <th>String2</th>\n",
       "    </tr>\n",
       "  </thead>\n",
       "  <tbody>\n",
       "    <tr>\n",
       "      <th>0</th>\n",
       "      <td>2493</td>\n",
       "      <td>G</td>\n",
       "      <td>T</td>\n",
       "    </tr>\n",
       "    <tr>\n",
       "      <th>1</th>\n",
       "      <td>3767</td>\n",
       "      <td>C</td>\n",
       "      <td>T</td>\n",
       "    </tr>\n",
       "    <tr>\n",
       "      <th>2</th>\n",
       "      <td>4236</td>\n",
       "      <td>C</td>\n",
       "      <td>T</td>\n",
       "    </tr>\n",
       "    <tr>\n",
       "      <th>3</th>\n",
       "      <td>4437</td>\n",
       "      <td>C</td>\n",
       "      <td>T</td>\n",
       "    </tr>\n",
       "    <tr>\n",
       "      <th>4</th>\n",
       "      <td>6081</td>\n",
       "      <td>C</td>\n",
       "      <td>T</td>\n",
       "    </tr>\n",
       "    <tr>\n",
       "      <th>5</th>\n",
       "      <td>8109</td>\n",
       "      <td>C</td>\n",
       "      <td>T</td>\n",
       "    </tr>\n",
       "    <tr>\n",
       "      <th>6</th>\n",
       "      <td>10603</td>\n",
       "      <td>T</td>\n",
       "      <td>C</td>\n",
       "    </tr>\n",
       "    <tr>\n",
       "      <th>7</th>\n",
       "      <td>10687</td>\n",
       "      <td>A</td>\n",
       "      <td>G</td>\n",
       "    </tr>\n",
       "    <tr>\n",
       "      <th>8</th>\n",
       "      <td>13209</td>\n",
       "      <td>C</td>\n",
       "      <td>T</td>\n",
       "    </tr>\n",
       "  </tbody>\n",
       "</table>\n",
       "</div>"
      ],
      "text/plain": [
       "   Posicion String1 String2\n",
       "0      2493       G       T\n",
       "1      3767       C       T\n",
       "2      4236       C       T\n",
       "3      4437       C       T\n",
       "4      6081       C       T\n",
       "5      8109       C       T\n",
       "6     10603       T       C\n",
       "7     10687       A       G\n",
       "8     13209       C       T"
      ]
     },
     "execution_count": 104,
     "metadata": {},
     "output_type": "execute_result"
    }
   ],
   "source": [
    "dif1(0,1,D1,0)"
   ]
  },
  {
   "cell_type": "code",
   "execution_count": 105,
   "id": "a3135655",
   "metadata": {},
   "outputs": [
    {
     "data": {
      "text/plain": [
       "9"
      ]
     },
     "execution_count": 105,
     "metadata": {},
     "output_type": "execute_result"
    }
   ],
   "source": [
    "len(dif1(0,1,D1,0))"
   ]
  },
  {
   "cell_type": "code",
   "execution_count": 111,
   "id": "cf9cf72d",
   "metadata": {},
   "outputs": [
    {
     "data": {
      "text/html": [
       "<div>\n",
       "<style scoped>\n",
       "    .dataframe tbody tr th:only-of-type {\n",
       "        vertical-align: middle;\n",
       "    }\n",
       "\n",
       "    .dataframe tbody tr th {\n",
       "        vertical-align: top;\n",
       "    }\n",
       "\n",
       "    .dataframe thead th {\n",
       "        text-align: right;\n",
       "    }\n",
       "</style>\n",
       "<table border=\"1\" class=\"dataframe\">\n",
       "  <thead>\n",
       "    <tr style=\"text-align: right;\">\n",
       "      <th></th>\n",
       "      <th>Posicion</th>\n",
       "      <th>String1</th>\n",
       "      <th>String2</th>\n",
       "    </tr>\n",
       "  </thead>\n",
       "  <tbody>\n",
       "    <tr>\n",
       "      <th>0</th>\n",
       "      <td>2493</td>\n",
       "      <td>G</td>\n",
       "      <td>T</td>\n",
       "    </tr>\n",
       "    <tr>\n",
       "      <th>1</th>\n",
       "      <td>3767</td>\n",
       "      <td>C</td>\n",
       "      <td>T</td>\n",
       "    </tr>\n",
       "    <tr>\n",
       "      <th>2</th>\n",
       "      <td>4236</td>\n",
       "      <td>C</td>\n",
       "      <td>T</td>\n",
       "    </tr>\n",
       "    <tr>\n",
       "      <th>3</th>\n",
       "      <td>4437</td>\n",
       "      <td>C</td>\n",
       "      <td>T</td>\n",
       "    </tr>\n",
       "    <tr>\n",
       "      <th>4</th>\n",
       "      <td>6081</td>\n",
       "      <td>C</td>\n",
       "      <td>T</td>\n",
       "    </tr>\n",
       "    <tr>\n",
       "      <th>5</th>\n",
       "      <td>8109</td>\n",
       "      <td>C</td>\n",
       "      <td>T</td>\n",
       "    </tr>\n",
       "    <tr>\n",
       "      <th>6</th>\n",
       "      <td>10603</td>\n",
       "      <td>T</td>\n",
       "      <td>C</td>\n",
       "    </tr>\n",
       "    <tr>\n",
       "      <th>7</th>\n",
       "      <td>10687</td>\n",
       "      <td>A</td>\n",
       "      <td>G</td>\n",
       "    </tr>\n",
       "    <tr>\n",
       "      <th>8</th>\n",
       "      <td>13209</td>\n",
       "      <td>C</td>\n",
       "      <td>T</td>\n",
       "    </tr>\n",
       "  </tbody>\n",
       "</table>\n",
       "</div>"
      ],
      "text/plain": [
       "   Posicion String1 String2\n",
       "0      2493       G       T\n",
       "1      3767       C       T\n",
       "2      4236       C       T\n",
       "3      4437       C       T\n",
       "4      6081       C       T\n",
       "5      8109       C       T\n",
       "6     10603       T       C\n",
       "7     10687       A       G\n",
       "8     13209       C       T"
      ]
     },
     "execution_count": 111,
     "metadata": {},
     "output_type": "execute_result"
    }
   ],
   "source": [
    "dif1(0,1,D1,0)"
   ]
  },
  {
   "cell_type": "code",
   "execution_count": 112,
   "id": "f3f11aa1",
   "metadata": {},
   "outputs": [
    {
     "data": {
      "text/html": [
       "<div>\n",
       "<style scoped>\n",
       "    .dataframe tbody tr th:only-of-type {\n",
       "        vertical-align: middle;\n",
       "    }\n",
       "\n",
       "    .dataframe tbody tr th {\n",
       "        vertical-align: top;\n",
       "    }\n",
       "\n",
       "    .dataframe thead th {\n",
       "        text-align: right;\n",
       "    }\n",
       "</style>\n",
       "<table border=\"1\" class=\"dataframe\">\n",
       "  <thead>\n",
       "    <tr style=\"text-align: right;\">\n",
       "      <th></th>\n",
       "      <th>Posicion</th>\n",
       "      <th>String1</th>\n",
       "      <th>String2</th>\n",
       "    </tr>\n",
       "  </thead>\n",
       "  <tbody>\n",
       "    <tr>\n",
       "      <th>0</th>\n",
       "      <td>14741</td>\n",
       "      <td>C</td>\n",
       "      <td>T</td>\n",
       "    </tr>\n",
       "    <tr>\n",
       "      <th>1</th>\n",
       "      <td>17039</td>\n",
       "      <td>C</td>\n",
       "      <td>T</td>\n",
       "    </tr>\n",
       "    <tr>\n",
       "      <th>2</th>\n",
       "      <td>20450</td>\n",
       "      <td>T</td>\n",
       "      <td>C</td>\n",
       "    </tr>\n",
       "    <tr>\n",
       "      <th>3</th>\n",
       "      <td>21136</td>\n",
       "      <td>G</td>\n",
       "      <td>A</td>\n",
       "    </tr>\n",
       "  </tbody>\n",
       "</table>\n",
       "</div>"
      ],
      "text/plain": [
       "   Posicion String1 String2\n",
       "0     14741       C       T\n",
       "1     17039       C       T\n",
       "2     20450       T       C\n",
       "3     21136       G       A"
      ]
     },
     "execution_count": 112,
     "metadata": {},
     "output_type": "execute_result"
    }
   ],
   "source": [
    "dif1(0,1,D1,1)"
   ]
  },
  {
   "cell_type": "code",
   "execution_count": null,
   "id": "c8936b42",
   "metadata": {},
   "outputs": [],
   "source": []
  },
  {
   "cell_type": "code",
   "execution_count": 118,
   "id": "5c0a4c34",
   "metadata": {},
   "outputs": [],
   "source": [
    "#m=np.ceil(len(Df)/2)\n",
    "def DistanciasPorGen(Df,m):\n",
    "    for r in range(m):\n",
    "        for s in range(r):\n",
    "            M_dist.iloc[s,r]=[len(dif1(s,r,Df,j)) for j in range(len(Ranges))]\n",
    "            M_dist.iloc[r,s]=M_dist.iloc[s,r]\n",
    "    return(M_dist)\n",
    "  "
   ]
  },
  {
   "cell_type": "code",
   "execution_count": 119,
   "id": "2be8a95b",
   "metadata": {},
   "outputs": [
    {
     "data": {
      "text/html": [
       "<div>\n",
       "<style scoped>\n",
       "    .dataframe tbody tr th:only-of-type {\n",
       "        vertical-align: middle;\n",
       "    }\n",
       "\n",
       "    .dataframe tbody tr th {\n",
       "        vertical-align: top;\n",
       "    }\n",
       "\n",
       "    .dataframe thead th {\n",
       "        text-align: right;\n",
       "    }\n",
       "</style>\n",
       "<table border=\"1\" class=\"dataframe\">\n",
       "  <thead>\n",
       "    <tr style=\"text-align: right;\">\n",
       "      <th></th>\n",
       "      <th>0</th>\n",
       "      <th>1</th>\n",
       "      <th>2</th>\n",
       "      <th>3</th>\n",
       "      <th>4</th>\n",
       "    </tr>\n",
       "  </thead>\n",
       "  <tbody>\n",
       "    <tr>\n",
       "      <th>0</th>\n",
       "      <td>[0, 0, 0, 0, 0, 0, 0, 0, 0, 0, 0, 0]</td>\n",
       "      <td>[9, 4, 4, 0, 0, 0, 0, 0, 0, 1, 0, 2]</td>\n",
       "      <td>[15, 1, 2, 4, 2, 0, 0, 0, 0, 7, 2, 3]</td>\n",
       "      <td>[17, 6, 3, 2, 0, 0, 0, 1, 0, 7, 1, 5]</td>\n",
       "      <td>[10, 1, 3, 2, 0, 0, 0, 0, 0, 0, 0, 1]</td>\n",
       "    </tr>\n",
       "    <tr>\n",
       "      <th>1</th>\n",
       "      <td>[9, 4, 4, 0, 0, 0, 0, 0, 0, 1, 0, 2]</td>\n",
       "      <td>[0, 0, 0, 0, 0, 0, 0, 0, 0, 0, 0, 0]</td>\n",
       "      <td>[20, 4, 2, 4, 2, 0, 0, 0, 0, 7, 2, 3]</td>\n",
       "      <td>[22, 9, 2, 2, 0, 0, 0, 1, 0, 7, 1, 5]</td>\n",
       "      <td>[13, 5, 5, 2, 0, 0, 0, 0, 0, 1, 0, 1]</td>\n",
       "    </tr>\n",
       "    <tr>\n",
       "      <th>2</th>\n",
       "      <td>[15, 1, 2, 4, 2, 0, 0, 0, 0, 7, 2, 3]</td>\n",
       "      <td>[20, 4, 2, 4, 2, 0, 0, 0, 0, 7, 2, 3]</td>\n",
       "      <td>[0, 0, 0, 0, 0, 0, 0, 0, 0, 0, 0, 0]</td>\n",
       "      <td>[16, 5, 0, 3, 2, 0, 0, 1, 0, 0, 0, 3]</td>\n",
       "      <td>[19, 2, 3, 6, 2, 0, 0, 0, 0, 1, 2, 2]</td>\n",
       "    </tr>\n",
       "    <tr>\n",
       "      <th>3</th>\n",
       "      <td>[17, 6, 3, 2, 0, 0, 0, 1, 0, 7, 1, 5]</td>\n",
       "      <td>[22, 9, 2, 2, 0, 0, 0, 1, 0, 7, 1, 5]</td>\n",
       "      <td>[16, 5, 0, 3, 2, 0, 0, 1, 0, 0, 0, 3]</td>\n",
       "      <td>[0, 0, 0, 0, 0, 0, 0, 0, 0, 0, 0, 0]</td>\n",
       "      <td>[21, 7, 4, 4, 0, 0, 0, 1, 0, 1, 1, 4]</td>\n",
       "    </tr>\n",
       "    <tr>\n",
       "      <th>4</th>\n",
       "      <td>[10, 1, 3, 2, 0, 0, 0, 0, 0, 0, 0, 1]</td>\n",
       "      <td>[13, 5, 5, 2, 0, 0, 0, 0, 0, 1, 0, 1]</td>\n",
       "      <td>[19, 2, 3, 6, 2, 0, 0, 0, 0, 1, 2, 2]</td>\n",
       "      <td>[21, 7, 4, 4, 0, 0, 0, 1, 0, 1, 1, 4]</td>\n",
       "      <td>[0, 0, 0, 0, 0, 0, 0, 0, 0, 0, 0, 0]</td>\n",
       "    </tr>\n",
       "  </tbody>\n",
       "</table>\n",
       "</div>"
      ],
      "text/plain": [
       "                                       0  \\\n",
       "0   [0, 0, 0, 0, 0, 0, 0, 0, 0, 0, 0, 0]   \n",
       "1   [9, 4, 4, 0, 0, 0, 0, 0, 0, 1, 0, 2]   \n",
       "2  [15, 1, 2, 4, 2, 0, 0, 0, 0, 7, 2, 3]   \n",
       "3  [17, 6, 3, 2, 0, 0, 0, 1, 0, 7, 1, 5]   \n",
       "4  [10, 1, 3, 2, 0, 0, 0, 0, 0, 0, 0, 1]   \n",
       "\n",
       "                                       1  \\\n",
       "0   [9, 4, 4, 0, 0, 0, 0, 0, 0, 1, 0, 2]   \n",
       "1   [0, 0, 0, 0, 0, 0, 0, 0, 0, 0, 0, 0]   \n",
       "2  [20, 4, 2, 4, 2, 0, 0, 0, 0, 7, 2, 3]   \n",
       "3  [22, 9, 2, 2, 0, 0, 0, 1, 0, 7, 1, 5]   \n",
       "4  [13, 5, 5, 2, 0, 0, 0, 0, 0, 1, 0, 1]   \n",
       "\n",
       "                                       2  \\\n",
       "0  [15, 1, 2, 4, 2, 0, 0, 0, 0, 7, 2, 3]   \n",
       "1  [20, 4, 2, 4, 2, 0, 0, 0, 0, 7, 2, 3]   \n",
       "2   [0, 0, 0, 0, 0, 0, 0, 0, 0, 0, 0, 0]   \n",
       "3  [16, 5, 0, 3, 2, 0, 0, 1, 0, 0, 0, 3]   \n",
       "4  [19, 2, 3, 6, 2, 0, 0, 0, 0, 1, 2, 2]   \n",
       "\n",
       "                                       3  \\\n",
       "0  [17, 6, 3, 2, 0, 0, 0, 1, 0, 7, 1, 5]   \n",
       "1  [22, 9, 2, 2, 0, 0, 0, 1, 0, 7, 1, 5]   \n",
       "2  [16, 5, 0, 3, 2, 0, 0, 1, 0, 0, 0, 3]   \n",
       "3   [0, 0, 0, 0, 0, 0, 0, 0, 0, 0, 0, 0]   \n",
       "4  [21, 7, 4, 4, 0, 0, 0, 1, 0, 1, 1, 4]   \n",
       "\n",
       "                                       4  \n",
       "0  [10, 1, 3, 2, 0, 0, 0, 0, 0, 0, 0, 1]  \n",
       "1  [13, 5, 5, 2, 0, 0, 0, 0, 0, 1, 0, 1]  \n",
       "2  [19, 2, 3, 6, 2, 0, 0, 0, 0, 1, 2, 2]  \n",
       "3  [21, 7, 4, 4, 0, 0, 0, 1, 0, 1, 1, 4]  \n",
       "4   [0, 0, 0, 0, 0, 0, 0, 0, 0, 0, 0, 0]  "
      ]
     },
     "execution_count": 119,
     "metadata": {},
     "output_type": "execute_result"
    }
   ],
   "source": [
    "DistanciasPorGen(D1,4)"
   ]
  },
  {
   "cell_type": "code",
   "execution_count": 120,
   "id": "314ead1b",
   "metadata": {},
   "outputs": [
    {
     "data": {
      "text/html": [
       "<div>\n",
       "<style scoped>\n",
       "    .dataframe tbody tr th:only-of-type {\n",
       "        vertical-align: middle;\n",
       "    }\n",
       "\n",
       "    .dataframe tbody tr th {\n",
       "        vertical-align: top;\n",
       "    }\n",
       "\n",
       "    .dataframe thead th {\n",
       "        text-align: right;\n",
       "    }\n",
       "</style>\n",
       "<table border=\"1\" class=\"dataframe\">\n",
       "  <thead>\n",
       "    <tr style=\"text-align: right;\">\n",
       "      <th></th>\n",
       "      <th>0</th>\n",
       "      <th>1</th>\n",
       "      <th>2</th>\n",
       "      <th>3</th>\n",
       "    </tr>\n",
       "  </thead>\n",
       "  <tbody>\n",
       "    <tr>\n",
       "      <th>0</th>\n",
       "      <td>0.0</td>\n",
       "      <td>160.0</td>\n",
       "      <td>73.0</td>\n",
       "      <td>92.0</td>\n",
       "    </tr>\n",
       "    <tr>\n",
       "      <th>1</th>\n",
       "      <td>160.0</td>\n",
       "      <td>0.0</td>\n",
       "      <td>147.0</td>\n",
       "      <td>165.0</td>\n",
       "    </tr>\n",
       "    <tr>\n",
       "      <th>2</th>\n",
       "      <td>73.0</td>\n",
       "      <td>147.0</td>\n",
       "      <td>0.0</td>\n",
       "      <td>45.0</td>\n",
       "    </tr>\n",
       "    <tr>\n",
       "      <th>3</th>\n",
       "      <td>92.0</td>\n",
       "      <td>165.0</td>\n",
       "      <td>45.0</td>\n",
       "      <td>0.0</td>\n",
       "    </tr>\n",
       "  </tbody>\n",
       "</table>\n",
       "</div>"
      ],
      "text/plain": [
       "       0      1      2      3\n",
       "0    0.0  160.0   73.0   92.0\n",
       "1  160.0    0.0  147.0  165.0\n",
       "2   73.0  147.0    0.0   45.0\n",
       "3   92.0  165.0   45.0    0.0"
      ]
     },
     "execution_count": 120,
     "metadata": {},
     "output_type": "execute_result"
    }
   ],
   "source": [
    "M(4,D1)"
   ]
  },
  {
   "cell_type": "code",
   "execution_count": null,
   "id": "6c6fd360",
   "metadata": {},
   "outputs": [],
   "source": []
  }
 ],
 "metadata": {
  "kernelspec": {
   "display_name": "Python 3 (ipykernel)",
   "language": "python",
   "name": "python3"
  },
  "language_info": {
   "codemirror_mode": {
    "name": "ipython",
    "version": 3
   },
   "file_extension": ".py",
   "mimetype": "text/x-python",
   "name": "python",
   "nbconvert_exporter": "python",
   "pygments_lexer": "ipython3",
   "version": "3.9.12"
  }
 },
 "nbformat": 4,
 "nbformat_minor": 5
}
